{
 "cells": [
  {
   "cell_type": "markdown",
   "metadata": {},
   "source": [
    "# This is Jeopardy!"
   ]
  },
  {
   "cell_type": "markdown",
   "metadata": {},
   "source": [
    "#### Overview"
   ]
  },
  {
   "cell_type": "markdown",
   "metadata": {},
   "source": [
    "This project is slightly different than others you have encountered thus far. Instead of a step-by-step tutorial, this project contains a series of open-ended requirements which describe the project you'll be building. There are many possible ways to correctly fulfill all of these requirements, and you should expect to use the internet, Codecademy, and/or other resources when you encounter a problem that you cannot easily solve."
   ]
  },
  {
   "cell_type": "markdown",
   "metadata": {},
   "source": [
    "#### Project Goals"
   ]
  },
  {
   "cell_type": "markdown",
   "metadata": {},
   "source": [
    "You will work to write several functions that investigate a dataset of _Jeopardy!_ questions and answers. Filter the dataset for topics that you're interested in, compute the average difficulty of those questions, and train to become the next Jeopardy champion!"
   ]
  },
  {
   "cell_type": "markdown",
   "metadata": {},
   "source": [
    "## Prerequisites"
   ]
  },
  {
   "cell_type": "markdown",
   "metadata": {},
   "source": [
    "In order to complete this project, you should have completed the Pandas lessons in the <a href=\"https://www.codecademy.com/learn/paths/analyze-data-with-python\">Analyze Data with Python Skill Path</a>. You can also find those lessons in the <a href=\"https://www.codecademy.com/learn/data-processing-pandas\">Data Analysis with Pandas course</a> or the <a href=\"https://www.codecademy.com/learn/paths/data-science/\">Data Scientist Career Path</a>.\n",
    "\n",
    "Finally, the <a href=\"https://www.codecademy.com/learn/practical-data-cleaning\">Practical Data Cleaning</a> course may also be helpful."
   ]
  },
  {
   "cell_type": "markdown",
   "metadata": {},
   "source": [
    "## Project Requirements"
   ]
  },
  {
   "cell_type": "markdown",
   "metadata": {},
   "source": [
    "1. We've provided a csv file containing data about the game show _Jeopardy!_ in a file named `jeopardy.csv`. Load the data into a DataFrame and investigate its contents. Try to print out specific columns.\n",
    "\n",
    "   Note that in order to make this project as \"real-world\" as possible, we haven't modified the data at all - we're giving it to you exactly how we found it. As a result, this data isn't as \"clean\" as the datasets you normally find on Codecademy. More specifically, there's something odd about the column names. After you figure out the problem with the column names, you may want to rename them to make your life easier for the rest of the project.\n",
    "   \n",
    "   In order to display the full contents of a column, we've added this line of code for you:\n",
    "   \n",
    "   ```py\n",
    "   pd.set_option('display.max_colwidth', None)\n",
    "   ```"
   ]
  },
  {
   "cell_type": "code",
   "execution_count": 1,
   "metadata": {
    "tags": []
   },
   "outputs": [],
   "source": [
    "import pandas as pd\n",
    "pd.set_option('display.max_colwidth', None)"
   ]
  },
  {
   "cell_type": "markdown",
   "metadata": {},
   "source": [
    "2. Write a function that filters the dataset for questions that contains all of the words in a list of words. For example, when the list `[\"King\", \"England\"]` was passed to our function, the function returned a DataFrame of 49 rows. Every row had the strings `\"King\"` and `\"England\"` somewhere in its `\" Question\"`.\n",
    "\n",
    "   Test your function by printing out the column containing the question of each row of the dataset."
   ]
  },
  {
   "cell_type": "code",
   "execution_count": 2,
   "metadata": {
    "tags": []
   },
   "outputs": [
    {
     "data": {
      "text/plain": [
       "216930"
      ]
     },
     "execution_count": 2,
     "metadata": {},
     "output_type": "execute_result"
    }
   ],
   "source": [
    "jeopardy = pd.read_csv(\"jeopardy.csv\")\n",
    "df = jeopardy.rename(columns={\"Show Number\": \"show_no\",\n",
    "                              \" Air Date\": \"date\",\n",
    "                              \" Round\": \"round\",\n",
    "                              \" Category\": \"category\",\n",
    "                              \" Value\": \"value\",\n",
    "                              \" Question\": \"question\",\n",
    "                              \" Answer\": \"answer\"\n",
    "                             })\n",
    "df.head()\n",
    "len(df)"
   ]
  },
  {
   "cell_type": "code",
   "execution_count": 3,
   "metadata": {
    "tags": []
   },
   "outputs": [
    {
     "data": {
      "text/html": [
       "<div>\n",
       "<style scoped>\n",
       "    .dataframe tbody tr th:only-of-type {\n",
       "        vertical-align: middle;\n",
       "    }\n",
       "\n",
       "    .dataframe tbody tr th {\n",
       "        vertical-align: top;\n",
       "    }\n",
       "\n",
       "    .dataframe thead th {\n",
       "        text-align: right;\n",
       "    }\n",
       "</style>\n",
       "<table border=\"1\" class=\"dataframe\">\n",
       "  <thead>\n",
       "    <tr style=\"text-align: right;\">\n",
       "      <th></th>\n",
       "      <th>show_no</th>\n",
       "      <th>date</th>\n",
       "      <th>round</th>\n",
       "      <th>category</th>\n",
       "      <th>value</th>\n",
       "      <th>question</th>\n",
       "      <th>answer</th>\n",
       "    </tr>\n",
       "  </thead>\n",
       "  <tbody>\n",
       "    <tr>\n",
       "      <th>56</th>\n",
       "      <td>5957</td>\n",
       "      <td>2010-07-06</td>\n",
       "      <td>Jeopardy!</td>\n",
       "      <td>GEOGRAPHY \"E\"</td>\n",
       "      <td>$200</td>\n",
       "      <td>It's the largest kingdom in the United Kingdom</td>\n",
       "      <td>England</td>\n",
       "    </tr>\n",
       "    <tr>\n",
       "      <th>399</th>\n",
       "      <td>2825</td>\n",
       "      <td>1996-12-06</td>\n",
       "      <td>Double Jeopardy!</td>\n",
       "      <td>POETS</td>\n",
       "      <td>$400</td>\n",
       "      <td>Between 1842 &amp; 1885, he repeatedly revised his \"Idylls of the King\"</td>\n",
       "      <td>Alfred Lord Tennyson</td>\n",
       "    </tr>\n",
       "    <tr>\n",
       "      <th>545</th>\n",
       "      <td>3036</td>\n",
       "      <td>1997-11-10</td>\n",
       "      <td>Jeopardy!</td>\n",
       "      <td>ON THE RADIO</td>\n",
       "      <td>$200</td>\n",
       "      <td>Robin Quivers is the radio consort of this self-proclaimed  \"King of All Media\"</td>\n",
       "      <td>Howard Stern</td>\n",
       "    </tr>\n",
       "    <tr>\n",
       "      <th>811</th>\n",
       "      <td>4335</td>\n",
       "      <td>2003-06-06</td>\n",
       "      <td>Double Jeopardy!</td>\n",
       "      <td>\"S\"-OTERICA</td>\n",
       "      <td>$400</td>\n",
       "      <td>Examples of this TV format include \"Leave It to Beaver\" &amp; \"The King of Queens\"</td>\n",
       "      <td>sitcom</td>\n",
       "    </tr>\n",
       "    <tr>\n",
       "      <th>1074</th>\n",
       "      <td>4085</td>\n",
       "      <td>2002-05-10</td>\n",
       "      <td>Jeopardy!</td>\n",
       "      <td>CENTRAL PARK</td>\n",
       "      <td>$400</td>\n",
       "      <td>Central Park has a statue of King Wladyslaw II Jagiello of this country, who was also Grand Duke of Lithuania</td>\n",
       "      <td>Poland</td>\n",
       "    </tr>\n",
       "    <tr>\n",
       "      <th>...</th>\n",
       "      <td>...</td>\n",
       "      <td>...</td>\n",
       "      <td>...</td>\n",
       "      <td>...</td>\n",
       "      <td>...</td>\n",
       "      <td>...</td>\n",
       "      <td>...</td>\n",
       "    </tr>\n",
       "    <tr>\n",
       "      <th>216572</th>\n",
       "      <td>2046</td>\n",
       "      <td>1993-06-28</td>\n",
       "      <td>Jeopardy!</td>\n",
       "      <td>TRAVEL U.S.A.</td>\n",
       "      <td>$100</td>\n",
       "      <td>You have to stand up to ride Shockwave, this type of thrill ride at Kings Dominion in Virginia</td>\n",
       "      <td>a roller coaster</td>\n",
       "    </tr>\n",
       "    <tr>\n",
       "      <th>216675</th>\n",
       "      <td>3940</td>\n",
       "      <td>2001-10-19</td>\n",
       "      <td>Double Jeopardy!</td>\n",
       "      <td>\"CAB\"</td>\n",
       "      <td>$600</td>\n",
       "      <td>Stephen King's 1980 overview of the horror genre was called \"Danse\" this</td>\n",
       "      <td>Macabre</td>\n",
       "    </tr>\n",
       "    <tr>\n",
       "      <th>216752</th>\n",
       "      <td>5070</td>\n",
       "      <td>2006-09-29</td>\n",
       "      <td>Jeopardy!</td>\n",
       "      <td>SIGNING OFF</td>\n",
       "      <td>$200</td>\n",
       "      <td>Upon signing his name in 1776 he said, \"There, King George will be able to read that without his spectacles\"</td>\n",
       "      <td>(John) Hancock</td>\n",
       "    </tr>\n",
       "    <tr>\n",
       "      <th>216777</th>\n",
       "      <td>5070</td>\n",
       "      <td>2006-09-29</td>\n",
       "      <td>Double Jeopardy!</td>\n",
       "      <td>ANCIENT HISTORY</td>\n",
       "      <td>$400</td>\n",
       "      <td>The first one of these tombs was built about 2650 B.C. by Imhotep for King Zoser &amp; rose about 200 feet using steps</td>\n",
       "      <td>a pyramid (the pyramids accepted)</td>\n",
       "    </tr>\n",
       "    <tr>\n",
       "      <th>216787</th>\n",
       "      <td>5070</td>\n",
       "      <td>2006-09-29</td>\n",
       "      <td>Double Jeopardy!</td>\n",
       "      <td>TALES OF E.T.A. HOFFMANN</td>\n",
       "      <td>$2,000</td>\n",
       "      <td>A Hoffmann tale title lost the words \"And The Mouse King\" when it became this Tchaikovsky ballet</td>\n",
       "      <td>The Nutcracker</td>\n",
       "    </tr>\n",
       "  </tbody>\n",
       "</table>\n",
       "<p>1604 rows × 7 columns</p>\n",
       "</div>"
      ],
      "text/plain": [
       "        show_no        date             round                  category  \\\n",
       "56         5957  2010-07-06         Jeopardy!             GEOGRAPHY \"E\"   \n",
       "399        2825  1996-12-06  Double Jeopardy!                     POETS   \n",
       "545        3036  1997-11-10         Jeopardy!              ON THE RADIO   \n",
       "811        4335  2003-06-06  Double Jeopardy!               \"S\"-OTERICA   \n",
       "1074       4085  2002-05-10         Jeopardy!              CENTRAL PARK   \n",
       "...         ...         ...               ...                       ...   \n",
       "216572     2046  1993-06-28         Jeopardy!             TRAVEL U.S.A.   \n",
       "216675     3940  2001-10-19  Double Jeopardy!                     \"CAB\"   \n",
       "216752     5070  2006-09-29         Jeopardy!               SIGNING OFF   \n",
       "216777     5070  2006-09-29  Double Jeopardy!           ANCIENT HISTORY   \n",
       "216787     5070  2006-09-29  Double Jeopardy!  TALES OF E.T.A. HOFFMANN   \n",
       "\n",
       "         value  \\\n",
       "56        $200   \n",
       "399       $400   \n",
       "545       $200   \n",
       "811       $400   \n",
       "1074      $400   \n",
       "...        ...   \n",
       "216572    $100   \n",
       "216675    $600   \n",
       "216752    $200   \n",
       "216777    $400   \n",
       "216787  $2,000   \n",
       "\n",
       "                                                                                                                  question  \\\n",
       "56                                                                          It's the largest kingdom in the United Kingdom   \n",
       "399                                                    Between 1842 & 1885, he repeatedly revised his \"Idylls of the King\"   \n",
       "545                                        Robin Quivers is the radio consort of this self-proclaimed  \"King of All Media\"   \n",
       "811                                         Examples of this TV format include \"Leave It to Beaver\" & \"The King of Queens\"   \n",
       "1074         Central Park has a statue of King Wladyslaw II Jagiello of this country, who was also Grand Duke of Lithuania   \n",
       "...                                                                                                                    ...   \n",
       "216572                      You have to stand up to ride Shockwave, this type of thrill ride at Kings Dominion in Virginia   \n",
       "216675                                            Stephen King's 1980 overview of the horror genre was called \"Danse\" this   \n",
       "216752        Upon signing his name in 1776 he said, \"There, King George will be able to read that without his spectacles\"   \n",
       "216777  The first one of these tombs was built about 2650 B.C. by Imhotep for King Zoser & rose about 200 feet using steps   \n",
       "216787                    A Hoffmann tale title lost the words \"And The Mouse King\" when it became this Tchaikovsky ballet   \n",
       "\n",
       "                                   answer  \n",
       "56                                England  \n",
       "399                  Alfred Lord Tennyson  \n",
       "545                          Howard Stern  \n",
       "811                                sitcom  \n",
       "1074                               Poland  \n",
       "...                                   ...  \n",
       "216572                   a roller coaster  \n",
       "216675                            Macabre  \n",
       "216752                     (John) Hancock  \n",
       "216777  a pyramid (the pyramids accepted)  \n",
       "216787                     The Nutcracker  \n",
       "\n",
       "[1604 rows x 7 columns]"
      ]
     },
     "execution_count": 3,
     "metadata": {},
     "output_type": "execute_result"
    }
   ],
   "source": [
    "df[df.question.str.contains(\"King\")]"
   ]
  },
  {
   "cell_type": "code",
   "execution_count": 4,
   "metadata": {
    "tags": []
   },
   "outputs": [
    {
     "data": {
      "text/html": [
       "<div>\n",
       "<style scoped>\n",
       "    .dataframe tbody tr th:only-of-type {\n",
       "        vertical-align: middle;\n",
       "    }\n",
       "\n",
       "    .dataframe tbody tr th {\n",
       "        vertical-align: top;\n",
       "    }\n",
       "\n",
       "    .dataframe thead th {\n",
       "        text-align: right;\n",
       "    }\n",
       "</style>\n",
       "<table border=\"1\" class=\"dataframe\">\n",
       "  <thead>\n",
       "    <tr style=\"text-align: right;\">\n",
       "      <th></th>\n",
       "      <th>show_no</th>\n",
       "      <th>date</th>\n",
       "      <th>round</th>\n",
       "      <th>category</th>\n",
       "      <th>value</th>\n",
       "      <th>question</th>\n",
       "      <th>answer</th>\n",
       "    </tr>\n",
       "  </thead>\n",
       "  <tbody>\n",
       "    <tr>\n",
       "      <th>4953</th>\n",
       "      <td>3003</td>\n",
       "      <td>1997-09-24</td>\n",
       "      <td>Double Jeopardy!</td>\n",
       "      <td>\"PH\"UN WORDS</td>\n",
       "      <td>$200</td>\n",
       "      <td>Both England's King George V &amp; FDR put their stamp of approval on this \"King of Hobbies\"</td>\n",
       "      <td>Philately (stamp collecting)</td>\n",
       "    </tr>\n",
       "    <tr>\n",
       "      <th>14912</th>\n",
       "      <td>2832</td>\n",
       "      <td>1996-12-17</td>\n",
       "      <td>Jeopardy!</td>\n",
       "      <td>WORLD HISTORY</td>\n",
       "      <td>$100</td>\n",
       "      <td>This country's King Louis IV was nicknamed \"Louis From Overseas\" because he was raised in England</td>\n",
       "      <td>France</td>\n",
       "    </tr>\n",
       "    <tr>\n",
       "      <th>21511</th>\n",
       "      <td>4650</td>\n",
       "      <td>2004-11-19</td>\n",
       "      <td>Jeopardy!</td>\n",
       "      <td>THE \"O.C.\"</td>\n",
       "      <td>$1000</td>\n",
       "      <td>this man and his son ruled England following the execution of King Charles I</td>\n",
       "      <td>Oliver Cromwell</td>\n",
       "    </tr>\n",
       "    <tr>\n",
       "      <th>23810</th>\n",
       "      <td>4862</td>\n",
       "      <td>2005-11-01</td>\n",
       "      <td>Jeopardy!</td>\n",
       "      <td>NAME THE YEAR</td>\n",
       "      <td>$400</td>\n",
       "      <td>William the Conqueror was crowned King of England in Westminster Abbey on Christmas Day in this year</td>\n",
       "      <td>1066</td>\n",
       "    </tr>\n",
       "    <tr>\n",
       "      <th>27555</th>\n",
       "      <td>1799</td>\n",
       "      <td>1992-05-28</td>\n",
       "      <td>Double Jeopardy!</td>\n",
       "      <td>HISTORIC IN-LAWS</td>\n",
       "      <td>$600</td>\n",
       "      <td>This member of the Medici family was the mother-in-law of England's King Charles I</td>\n",
       "      <td>Marie de Medici</td>\n",
       "    </tr>\n",
       "  </tbody>\n",
       "</table>\n",
       "</div>"
      ],
      "text/plain": [
       "       show_no        date             round          category  value  \\\n",
       "4953      3003  1997-09-24  Double Jeopardy!      \"PH\"UN WORDS   $200   \n",
       "14912     2832  1996-12-17         Jeopardy!     WORLD HISTORY   $100   \n",
       "21511     4650  2004-11-19         Jeopardy!        THE \"O.C.\"  $1000   \n",
       "23810     4862  2005-11-01         Jeopardy!     NAME THE YEAR   $400   \n",
       "27555     1799  1992-05-28  Double Jeopardy!  HISTORIC IN-LAWS   $600   \n",
       "\n",
       "                                                                                                   question  \\\n",
       "4953               Both England's King George V & FDR put their stamp of approval on this \"King of Hobbies\"   \n",
       "14912     This country's King Louis IV was nicknamed \"Louis From Overseas\" because he was raised in England   \n",
       "21511                          this man and his son ruled England following the execution of King Charles I   \n",
       "23810  William the Conqueror was crowned King of England in Westminster Abbey on Christmas Day in this year   \n",
       "27555                    This member of the Medici family was the mother-in-law of England's King Charles I   \n",
       "\n",
       "                             answer  \n",
       "4953   Philately (stamp collecting)  \n",
       "14912                        France  \n",
       "21511               Oliver Cromwell  \n",
       "23810                          1066  \n",
       "27555               Marie de Medici  "
      ]
     },
     "execution_count": 4,
     "metadata": {},
     "output_type": "execute_result"
    }
   ],
   "source": [
    "def questionSearch(entry: list) -> pd.DataFrame:\n",
    "    i, j = entry\n",
    "    found = df[df.question.str.contains(i) & df.question.str.contains(j)]\n",
    "    return found\n",
    "questionSearch([\"King\",\"England\"]).head()"
   ]
  },
  {
   "cell_type": "markdown",
   "metadata": {},
   "source": [
    "3. Test your original function with a few different sets of words to try to find some ways your function breaks. Edit your function so it is more robust.\n",
    "\n",
    "   For example, think about capitalization. We probably want to find questions that contain the word `\"King\"` or `\"king\"`.\n",
    "   \n",
    "   You may also want to check to make sure you don't find rows that contain substrings of your given words. For example, our function found a question that didn't contain the word `\"king\"`, however it did contain the word `\"viking\"` &mdash; it found the `\"king\"` inside `\"viking\"`. Note that this also comes with some drawbacks &mdash; you would no longer find questions that contained words like `\"England's\"`."
   ]
  },
  {
   "cell_type": "code",
   "execution_count": 70,
   "metadata": {
    "tags": []
   },
   "outputs": [
    {
     "data": {
      "text/plain": [
       "49"
      ]
     },
     "execution_count": 70,
     "metadata": {},
     "output_type": "execute_result"
    }
   ],
   "source": [
    "def betterSearch(dataframe:pd.DataFrame ,entry: list) -> pd.DataFrame:\n",
    "    conditions = dataframe.question.apply(lambda x: all(substring in x for substring in entry))\n",
    "    return dataframe[conditions]\n",
    "len(betterSearch(df,[\"King\",\"England\"]))"
   ]
  },
  {
   "cell_type": "markdown",
   "metadata": {},
   "source": [
    "4. We may want to eventually compute aggregate statistics, like `.mean()` on the `\" Value\"` column. But right now, the values in that column are strings. Convert the`\" Value\"` column to floats. If you'd like to, you can create a new column with float values.\n",
    "\n",
    "   Now that you can filter the dataset of question, use your new column that contains the float values of each question to find the \"difficulty\" of certain topics. For example, what is the average value of questions that contain the word `\"King\"`?\n",
    "   \n",
    "   Make sure to use the dataset that contains the float values as the dataset you use in your filtering function."
   ]
  },
  {
   "cell_type": "code",
   "execution_count": 6,
   "metadata": {},
   "outputs": [],
   "source": [
    "df['value'] = df.value.apply(lambda x: float(x.strip(\"$\").replace(',','').replace('None', '0')))"
   ]
  },
  {
   "cell_type": "code",
   "execution_count": 55,
   "metadata": {
    "tags": []
   },
   "outputs": [
    {
     "data": {
      "text/plain": [
       "773.4413965087282"
      ]
     },
     "execution_count": 55,
     "metadata": {},
     "output_type": "execute_result"
    }
   ],
   "source": [
    "betterSearch(df,[\"King\"]).value.mean()"
   ]
  },
  {
   "cell_type": "markdown",
   "metadata": {},
   "source": [
    "5. Write a function that returns the count of unique answers to all of the questions in a dataset. For example, after filtering the entire dataset to only questions containing the word `\"King\"`, we could then find all of the unique answers to those questions. The answer \"Henry VIII\" appeared 55 times and was the most common answer."
   ]
  },
  {
   "cell_type": "code",
   "execution_count": 56,
   "metadata": {},
   "outputs": [
    {
     "data": {
      "text/plain": [
       "Sweden                               19\n",
       "Scotland                             11\n",
       "Norway                               11\n",
       "Denmark                              10\n",
       "Morocco                              10\n",
       "                                     ..\n",
       "blood poisoning                       1\n",
       "the Hundred Years' War                1\n",
       "Warsaw                                1\n",
       "the May King                          1\n",
       "a pyramid (the pyramids accepted)     1\n",
       "Name: answer, Length: 1115, dtype: int64"
      ]
     },
     "execution_count": 56,
     "metadata": {},
     "output_type": "execute_result"
    }
   ],
   "source": [
    "# betterSearch([\"King\"]).groupby(betterSearch([\"King\"]).answer)\n",
    "filterSearch = betterSearch(df,[\"King\"])\n",
    "filterSearch.answer.value_counts()"
   ]
  },
  {
   "cell_type": "markdown",
   "metadata": {},
   "source": [
    "6. Explore from here! This is an incredibly rich dataset, and there are so many interesting things to discover. There are a few columns that we haven't even started looking at yet. Here are some ideas on ways to continue working with this data:\n",
    "\n",
    " * Investigate the ways in which questions change over time by filtering by the date. How many questions from the 90s use the word `\"Computer\"` compared to questions from the 2000s?\n",
    " * Is there a connection between the round and the category? Are you more likely to find certain categories, like `\"Literature\"` in Single Jeopardy or Double Jeopardy?\n",
    " * Build a system to quiz yourself. Grab random questions, and use the <a href=\"https://docs.python.org/3/library/functions.html#input\">input</a> function to get a response from the user. Check to see if that response was right or wrong."
   ]
  },
  {
   "cell_type": "code",
   "execution_count": 78,
   "metadata": {
    "tags": []
   },
   "outputs": [],
   "source": [
    "start = pd.to_datetime('1990-01-01')\n",
    "end = pd.to_datetime('2000-01-01')\n",
    "df['date'] = pd.to_datetime(df['date'])\n",
    "nineties = df[(df.date > start) & (df.date< end)]\n",
    "twoThousands = df[(df.date > pd.to_datetime(\"2000-01-01\")) & (df.date< pd.to_datetime(\"2010-01-01\"))]"
   ]
  },
  {
   "cell_type": "code",
   "execution_count": 85,
   "metadata": {
    "tags": []
   },
   "outputs": [
    {
     "data": {
      "text/plain": [
       "8"
      ]
     },
     "execution_count": 85,
     "metadata": {},
     "output_type": "execute_result"
    }
   ],
   "source": [
    "betterSearch(nineties, [\"Computer\"]).question.count()"
   ]
  },
  {
   "cell_type": "code",
   "execution_count": 86,
   "metadata": {
    "tags": []
   },
   "outputs": [
    {
     "data": {
      "text/plain": [
       "25"
      ]
     },
     "execution_count": 86,
     "metadata": {},
     "output_type": "execute_result"
    }
   ],
   "source": [
    "betterSearch(twoThousands, [\"Computer\"]).question.count()"
   ]
  }
 ],
 "metadata": {
  "kernelspec": {
   "display_name": "Python 3 (ipykernel)",
   "language": "python",
   "name": "python3"
  },
  "language_info": {
   "codemirror_mode": {
    "name": "ipython",
    "version": 3
   },
   "file_extension": ".py",
   "mimetype": "text/x-python",
   "name": "python",
   "nbconvert_exporter": "python",
   "pygments_lexer": "ipython3",
   "version": "3.11.3"
  }
 },
 "nbformat": 4,
 "nbformat_minor": 4
}
